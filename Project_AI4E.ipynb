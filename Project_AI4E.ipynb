{
  "nbformat": 4,
  "nbformat_minor": 0,
  "metadata": {
    "colab": {
      "name": "Project AI4E.ipynb",
      "provenance": [],
      "collapsed_sections": [],
      "machine_shape": "hm"
    },
    "kernelspec": {
      "name": "python3",
      "display_name": "Python 3"
    },
    "accelerator": "GPU"
  },
  "cells": [
    {
      "cell_type": "code",
      "metadata": {
        "id": "jC6HBETt1X5B",
        "outputId": "661fa2e0-1f9d-4d16-9cf8-1334f6c29b1e",
        "colab": {
          "base_uri": "https://localhost:8080/"
        }
      },
      "source": [
        "from google.colab import drive\n",
        "drive.mount('/content/drive')"
      ],
      "execution_count": null,
      "outputs": [
        {
          "output_type": "stream",
          "text": [
            "Mounted at /content/drive\n"
          ],
          "name": "stdout"
        }
      ]
    },
    {
      "cell_type": "code",
      "metadata": {
        "id": "jETKkhMk1uiD",
        "outputId": "e1d6cf7c-b3af-45d2-e594-106685f87fb3",
        "colab": {
          "base_uri": "https://localhost:8080/"
        }
      },
      "source": [
        "%cd /content/drive/My Drive/Project AI4E"
      ],
      "execution_count": null,
      "outputs": [
        {
          "output_type": "stream",
          "text": [
            "/content/drive/My Drive/Project AI4E\n"
          ],
          "name": "stdout"
        }
      ]
    },
    {
      "cell_type": "code",
      "metadata": {
        "id": "xKIgssCYV2Sp"
      },
      "source": [
        "# !nvidia-smi"
      ],
      "execution_count": null,
      "outputs": []
    },
    {
      "cell_type": "code",
      "metadata": {
        "id": "YVWWYg6HV_uu",
        "outputId": "430874ba-95aa-47a2-c44b-2787abd1bcce",
        "colab": {
          "base_uri": "https://localhost:8080/",
          "height": 35
        }
      },
      "source": [
        "import pandas as pd\n",
        "import numpy as np\n",
        "import tensorflow as tf\n",
        "import re\n",
        "import matplotlib.pyplot as plt\n",
        "import time\n",
        "from tensorflow.keras.utils import plot_model\n",
        "from tensorflow.keras.callbacks import  ReduceLROnPlateau, EarlyStopping, LearningRateScheduler, ModelCheckpoint\n",
        "from tensorflow import keras\n",
        "from keras.layers import Input, LSTM, Dense, BatchNormalization\n",
        "from keras.models import Model, load_model\n",
        "tf.__version__"
      ],
      "execution_count": null,
      "outputs": [
        {
          "output_type": "execute_result",
          "data": {
            "application/vnd.google.colaboratory.intrinsic+json": {
              "type": "string"
            },
            "text/plain": [
              "'2.3.0'"
            ]
          },
          "metadata": {
            "tags": []
          },
          "execution_count": 4
        }
      ]
    },
    {
      "cell_type": "code",
      "metadata": {
        "id": "q0rGTtO6WCm2"
      },
      "source": [
        "# Load the data\n",
        "lines = open('movie_lines.txt', encoding='utf-8', errors='ignore').read().split('\\n')\n",
        "conv_lines = open('movie_conversations.txt', encoding='utf-8', errors='ignore').read().split('\\n')"
      ],
      "execution_count": null,
      "outputs": []
    },
    {
      "cell_type": "code",
      "metadata": {
        "id": "Q6tXKQRTWHJu",
        "outputId": "9c5b1008-a27b-42da-dbbb-b1f1ca7bf6d6",
        "colab": {
          "base_uri": "https://localhost:8080/"
        }
      },
      "source": [
        "lines[:10]"
      ],
      "execution_count": null,
      "outputs": [
        {
          "output_type": "execute_result",
          "data": {
            "text/plain": [
              "['L1045 +++$+++ u0 +++$+++ m0 +++$+++ BIANCA +++$+++ They do not!',\n",
              " 'L1044 +++$+++ u2 +++$+++ m0 +++$+++ CAMERON +++$+++ They do to!',\n",
              " 'L985 +++$+++ u0 +++$+++ m0 +++$+++ BIANCA +++$+++ I hope so.',\n",
              " 'L984 +++$+++ u2 +++$+++ m0 +++$+++ CAMERON +++$+++ She okay?',\n",
              " \"L925 +++$+++ u0 +++$+++ m0 +++$+++ BIANCA +++$+++ Let's go.\",\n",
              " 'L924 +++$+++ u2 +++$+++ m0 +++$+++ CAMERON +++$+++ Wow',\n",
              " \"L872 +++$+++ u0 +++$+++ m0 +++$+++ BIANCA +++$+++ Okay -- you're gonna need to learn how to lie.\",\n",
              " 'L871 +++$+++ u2 +++$+++ m0 +++$+++ CAMERON +++$+++ No',\n",
              " 'L870 +++$+++ u0 +++$+++ m0 +++$+++ BIANCA +++$+++ I\\'m kidding.  You know how sometimes you just become this \"persona\"?  And you don\\'t know how to quit?',\n",
              " 'L869 +++$+++ u0 +++$+++ m0 +++$+++ BIANCA +++$+++ Like my fear of wearing pastels?']"
            ]
          },
          "metadata": {
            "tags": []
          },
          "execution_count": 6
        }
      ]
    },
    {
      "cell_type": "code",
      "metadata": {
        "id": "-BxkkUkoWH_v",
        "outputId": "6d5c8df2-12f6-4aa6-c2e0-6b8f40dea8d1",
        "colab": {
          "base_uri": "https://localhost:8080/"
        }
      },
      "source": [
        "conv_lines[:10]"
      ],
      "execution_count": null,
      "outputs": [
        {
          "output_type": "execute_result",
          "data": {
            "text/plain": [
              "[\"u0 +++$+++ u2 +++$+++ m0 +++$+++ ['L194', 'L195', 'L196', 'L197']\",\n",
              " \"u0 +++$+++ u2 +++$+++ m0 +++$+++ ['L198', 'L199']\",\n",
              " \"u0 +++$+++ u2 +++$+++ m0 +++$+++ ['L200', 'L201', 'L202', 'L203']\",\n",
              " \"u0 +++$+++ u2 +++$+++ m0 +++$+++ ['L204', 'L205', 'L206']\",\n",
              " \"u0 +++$+++ u2 +++$+++ m0 +++$+++ ['L207', 'L208']\",\n",
              " \"u0 +++$+++ u2 +++$+++ m0 +++$+++ ['L271', 'L272', 'L273', 'L274', 'L275']\",\n",
              " \"u0 +++$+++ u2 +++$+++ m0 +++$+++ ['L276', 'L277']\",\n",
              " \"u0 +++$+++ u2 +++$+++ m0 +++$+++ ['L280', 'L281']\",\n",
              " \"u0 +++$+++ u2 +++$+++ m0 +++$+++ ['L363', 'L364']\",\n",
              " \"u0 +++$+++ u2 +++$+++ m0 +++$+++ ['L365', 'L366']\"]"
            ]
          },
          "metadata": {
            "tags": []
          },
          "execution_count": 7
        }
      ]
    },
    {
      "cell_type": "code",
      "metadata": {
        "id": "VtGis8LqWJHt"
      },
      "source": [
        "# Create a dictionary to map each line's id with its text\n",
        "id2line = {}\n",
        "for line in lines:\n",
        "    _line = line.split(' +++$+++ ')\n",
        "    if len(_line) == 5:\n",
        "        id2line[_line[0]] = _line[4]"
      ],
      "execution_count": null,
      "outputs": []
    },
    {
      "cell_type": "code",
      "metadata": {
        "id": "SNEvIZfnWKQv"
      },
      "source": [
        "# Create a list of all of the conversations' lines' ids.\n",
        "convs = [ ]\n",
        "for line in conv_lines[:-1]:\n",
        "    _line = line.split(' +++$+++ ')[-1][1:-1].replace(\"'\",\"\").replace(\" \",\"\")\n",
        "    convs.append(_line.split(','))"
      ],
      "execution_count": null,
      "outputs": []
    },
    {
      "cell_type": "code",
      "metadata": {
        "id": "5JQkKngMWLLO",
        "outputId": "a2937ec3-5d1f-4902-ec50-f81cebd7b3dd",
        "colab": {
          "base_uri": "https://localhost:8080/"
        }
      },
      "source": [
        "convs[:10]"
      ],
      "execution_count": null,
      "outputs": [
        {
          "output_type": "execute_result",
          "data": {
            "text/plain": [
              "[['L194', 'L195', 'L196', 'L197'],\n",
              " ['L198', 'L199'],\n",
              " ['L200', 'L201', 'L202', 'L203'],\n",
              " ['L204', 'L205', 'L206'],\n",
              " ['L207', 'L208'],\n",
              " ['L271', 'L272', 'L273', 'L274', 'L275'],\n",
              " ['L276', 'L277'],\n",
              " ['L280', 'L281'],\n",
              " ['L363', 'L364'],\n",
              " ['L365', 'L366']]"
            ]
          },
          "metadata": {
            "tags": []
          },
          "execution_count": 10
        }
      ]
    },
    {
      "cell_type": "code",
      "metadata": {
        "id": "4IirOZBHWMOW"
      },
      "source": [
        "questions = []\n",
        "answers = []\n",
        "\n",
        "for conv in convs:\n",
        "    for i in range(len(conv)-1):\n",
        "        questions.append(id2line[conv[i]])\n",
        "        answers.append(id2line[conv[i+1]])"
      ],
      "execution_count": null,
      "outputs": []
    },
    {
      "cell_type": "code",
      "metadata": {
        "id": "jP_VADriWNRA",
        "outputId": "17e335f7-4314-41ee-ffd5-2bd6dba018db",
        "colab": {
          "base_uri": "https://localhost:8080/"
        }
      },
      "source": [
        "limit = 0\n",
        "for i in range(limit, limit+5):\n",
        "    print(questions[i])\n",
        "    print(answers[i])\n",
        "    print()"
      ],
      "execution_count": null,
      "outputs": [
        {
          "output_type": "stream",
          "text": [
            "Can we make this quick?  Roxanne Korrine and Andrew Barrett are having an incredibly horrendous public break- up on the quad.  Again.\n",
            "Well, I thought we'd start with pronunciation, if that's okay with you.\n",
            "\n",
            "Well, I thought we'd start with pronunciation, if that's okay with you.\n",
            "Not the hacking and gagging and spitting part.  Please.\n",
            "\n",
            "Not the hacking and gagging and spitting part.  Please.\n",
            "Okay... then how 'bout we try out some French cuisine.  Saturday?  Night?\n",
            "\n",
            "You're asking me out.  That's so cute. What's your name again?\n",
            "Forget it.\n",
            "\n",
            "No, no, it's my fault -- we didn't have a proper introduction ---\n",
            "Cameron.\n",
            "\n"
          ],
          "name": "stdout"
        }
      ]
    },
    {
      "cell_type": "code",
      "metadata": {
        "id": "RL0y7NQDWOIv",
        "outputId": "7d290504-53ac-46a3-99a2-6e03301c22da",
        "colab": {
          "base_uri": "https://localhost:8080/"
        }
      },
      "source": [
        "# Compare lengths of questions and answers\n",
        "print(len(questions))\n",
        "print(len(answers))"
      ],
      "execution_count": null,
      "outputs": [
        {
          "output_type": "stream",
          "text": [
            "221616\n",
            "221616\n"
          ],
          "name": "stdout"
        }
      ]
    },
    {
      "cell_type": "code",
      "metadata": {
        "id": "3DJi4cBTWPwo"
      },
      "source": [
        "def clean_text(text):\n",
        "    '''Clean text by removing unnecessary characters and altering the format of words.'''\n",
        "\n",
        "    text = text.lower()\n",
        "    \n",
        "    text = re.sub(r\"i'm\", \"i am\", text)\n",
        "    text = re.sub(r\"he's\", \"he is\", text)\n",
        "    text = re.sub(r\"she's\", \"she is\", text)\n",
        "    text = re.sub(r\"it's\", \"it is\", text)\n",
        "    text = re.sub(r\"that's\", \"that is\", text)\n",
        "    text = re.sub(r\"what's\", \"that is\", text)\n",
        "    text = re.sub(r\"where's\", \"where is\", text)\n",
        "    text = re.sub(r\"how's\", \"how is\", text)\n",
        "    text = re.sub(r\"\\'ll\", \" will\", text)\n",
        "    text = re.sub(r\"\\'ve\", \" have\", text)\n",
        "    text = re.sub(r\"\\'re\", \" are\", text)\n",
        "    text = re.sub(r\"\\'d\", \" would\", text)\n",
        "    text = re.sub(r\"\\'re\", \" are\", text)\n",
        "    text = re.sub(r\"won't\", \"will not\", text)\n",
        "    text = re.sub(r\"can't\", \"cannot\", text)\n",
        "    text = re.sub(r\"n't\", \" not\", text)\n",
        "    text = re.sub(r\"[0123456789]\", \"\", text)\n",
        "    text = re.sub(r\"n'\", \"ng\", text)\n",
        "    text = re.sub(r\"'bout\", \"about\", text)\n",
        "    text = re.sub(r\"'til\", \"until\", text)\n",
        "    text = re.sub(r\"  \", \" \", text)\n",
        "    text = re.sub(r\"[-()\\\"#&/@;:<>{}`+=~|.!?,]\", \"\", text)\n",
        "    text = re.sub(r\"[[]\", \" \", text)\n",
        "    text = re.sub(r\"[]]\", \" \", text)\n",
        "    \n",
        "    return text"
      ],
      "execution_count": null,
      "outputs": []
    },
    {
      "cell_type": "code",
      "metadata": {
        "id": "tadTDsjMWQ0e"
      },
      "source": [
        "# Clean the data\n",
        "clean_questions = []\n",
        "for question in questions:\n",
        "    clean_questions.append(clean_text(question))\n",
        "    \n",
        "clean_answers = []    \n",
        "for answer in answers:\n",
        "    clean_answers.append(clean_text(answer))"
      ],
      "execution_count": null,
      "outputs": []
    },
    {
      "cell_type": "code",
      "metadata": {
        "id": "x-lDpF1XWR3Q",
        "outputId": "39e96b99-f0b2-4dba-b2d9-07f940656ff2",
        "colab": {
          "base_uri": "https://localhost:8080/"
        }
      },
      "source": [
        "# Take a look at some of the data to ensure that it has been cleaned well.\n",
        "limit = 0\n",
        "for i in range(limit, limit+5):\n",
        "    print(clean_questions[i])\n",
        "    print(clean_answers[i])\n",
        "    print()"
      ],
      "execution_count": null,
      "outputs": [
        {
          "output_type": "stream",
          "text": [
            "can we make this quick roxanne korrine and andrew barrett are having an incredibly horrendous public break up on the quad again\n",
            "well i thought we would start with pronunciation if that is okay with you\n",
            "\n",
            "well i thought we would start with pronunciation if that is okay with you\n",
            "not the hacking and gagging and spitting part please\n",
            "\n",
            "not the hacking and gagging and spitting part please\n",
            "okay then how about we try out some french cuisine saturday night\n",
            "\n",
            "you are asking me out that is so cute that is your name again\n",
            "forget it\n",
            "\n",
            "no no it is my fault  we did not have a proper introduction \n",
            "cameron\n",
            "\n"
          ],
          "name": "stdout"
        }
      ]
    },
    {
      "cell_type": "code",
      "metadata": {
        "id": "LbW7kta_YFPe"
      },
      "source": [
        "# Find the length of sentences\n",
        "lengths = []\n",
        "for question in clean_questions:\n",
        "    lengths.append(len(question.split()))\n",
        "for answer in clean_answers:\n",
        "    lengths.append(len(answer.split()))\n",
        "\n",
        "# Create a dataframe so that the values can be inspected\n",
        "lengths = pd.DataFrame(lengths, columns=['counts'])"
      ],
      "execution_count": null,
      "outputs": []
    },
    {
      "cell_type": "code",
      "metadata": {
        "id": "UcQXY_C5GyKM"
      },
      "source": [
        ""
      ],
      "execution_count": null,
      "outputs": []
    },
    {
      "cell_type": "code",
      "metadata": {
        "id": "5iWekHCnbvF3"
      },
      "source": [
        "import matplotlib.pyplot as plt\n",
        "import numpy as np\n",
        "import seaborn as sns\n",
        "sns.set_theme(style=\"ticks\", palette=\"pastel\")"
      ],
      "execution_count": null,
      "outputs": []
    },
    {
      "cell_type": "code",
      "metadata": {
        "id": "Amm5b3TZOKSX",
        "outputId": "24dc8af1-0cf1-4cef-d837-3acedbb1d931",
        "colab": {
          "base_uri": "https://localhost:8080/",
          "height": 393
        }
      },
      "source": [
        "from collections import Counter\n",
        "ok = Counter(lengths['counts'])\n",
        "ok = dict(ok)\n",
        "x = []\n",
        "y =[]\n",
        "for k, v in ok.items():\n",
        "  x.append(k)\n",
        "  y.append(v)\n",
        "plt.figure(figsize=(20,5))\n",
        "sns.scatterplot(x,y)\n",
        "plt.plot()"
      ],
      "execution_count": null,
      "outputs": [
        {
          "output_type": "stream",
          "text": [
            "/usr/local/lib/python3.6/dist-packages/seaborn/_decorators.py:43: FutureWarning: Pass the following variables as keyword args: x, y. From version 0.12, the only valid positional argument will be `data`, and passing other arguments without an explicit keyword will result in an error or misinterpretation.\n",
            "  FutureWarning\n"
          ],
          "name": "stderr"
        },
        {
          "output_type": "execute_result",
          "data": {
            "text/plain": [
              "[]"
            ]
          },
          "metadata": {
            "tags": []
          },
          "execution_count": 19
        },
        {
          "output_type": "display_data",
          "data": {
            "image/png": "[encoded data removed]",
            "text/plain": [
              "<Figure size 1440x360 with 1 Axes>"
            ]
          },
          "metadata": {
            "tags": []
          }
        }
      ]
    },
    {
      "cell_type": "code",
      "metadata": {
        "id": "m7qv6YjHGylH",
        "outputId": "bed92ce0-f5be-47ab-9d2a-ab0d3ae8db0c",
        "colab": {
          "base_uri": "https://localhost:8080/",
          "height": 611
        }
      },
      "source": [
        "plt.figure(figsize=(5,10))\n",
        "plt.title('Boxplot Số lượng từ của 1 câu')\n",
        "sns.boxplot( palette=[\"m\", \"g\"],\n",
        "            data=lengths)\n",
        "plt.show()"
      ],
      "execution_count": null,
      "outputs": [
        {
          "output_type": "display_data",
          "data": {
            "image/png": "[encoded data removed]",
            "text/plain": [
              "<Figure size 360x720 with 1 Axes>"
            ]
          },
          "metadata": {
            "tags": []
          }
        }
      ]
    },
    {
      "cell_type": "code",
      "metadata": {
        "id": "SnKibvdZb55g",
        "outputId": "fcee3b81-1642-4d47-eb19-bf9f741b9b3c",
        "colab": {
          "base_uri": "https://localhost:8080/"
        }
      },
      "source": [
        "print(lengths.describe())\n"
      ],
      "execution_count": null,
      "outputs": [
        {
          "output_type": "stream",
          "text": [
            "              counts\n",
            "count  443232.000000\n",
            "mean       10.861871\n",
            "std        12.200338\n",
            "min         0.000000\n",
            "25%         4.000000\n",
            "50%         7.000000\n",
            "75%        14.000000\n",
            "max       555.000000\n"
          ],
          "name": "stdout"
        }
      ]
    },
    {
      "cell_type": "markdown",
      "metadata": {
        "id": "HRtsLALzq3XC"
      },
      "source": [
        "==> Dữ liệu tập trung nhiều ở câu có số lượng 3 - 6 từ / 1 câu \n",
        "\n",
        "---\n",
        "\n",
        "\n",
        "\n"
      ]
    },
    {
      "cell_type": "markdown",
      "metadata": {
        "id": "vJGvEYX5sViM"
      },
      "source": [
        "** Do tensor tạo bằng pandas có giới hạn nên trong bài chọn số từ 2 - 4 để train "
      ]
    },
    {
      "cell_type": "code",
      "metadata": {
        "id": "8YbQ9lKw1xjU"
      },
      "source": [
        "# dùng searbon để in dữ liệu ra ngoài theo 3 khoảng  \n"
      ],
      "execution_count": null,
      "outputs": []
    },
    {
      "cell_type": "code",
      "metadata": {
        "id": "9XrpbCmWtEOc"
      },
      "source": [
        "shorter = 0;\n",
        "longer = 0;\n",
        "between = 0\n",
        "size = lengths.size\n",
        "for i in range(size):\n",
        "  if ( lengths['counts'][i] >= 2  and lengths['counts'][i] <= 4):\n",
        "    between+=1\n",
        "  elif lengths['counts'][i] < 2 :\n",
        "    shorter+=1\n",
        "  elif lengths['counts'][i] > 4:\n",
        "    longer+=1\n",
        "\n",
        "\n"
      ],
      "execution_count": null,
      "outputs": []
    },
    {
      "cell_type": "code",
      "metadata": {
        "id": "44VIuzMetVQr",
        "outputId": "35e571b5-9da4-4713-cb33-dadc00de1b78",
        "colab": {
          "base_uri": "https://localhost:8080/",
          "height": 646
        }
      },
      "source": [
        "ten_cot = [\"< 2 \", \" giữa 2 và 4 \", \" > 4\"]\n",
        "gia_tri = [shorter, between, longer]\n",
        "\n",
        "z1 = format(round(shorter/(shorter+between+longer),4)*100) + '%'\n",
        "z2 = format(round(between/(shorter+between+longer),4)*100) + '%'\n",
        "z3 = format(round(longer/(shorter+between+longer),4)*100) + '%'\n",
        "data_labels = [z1,z2,z3]\n",
        "plt.figure(figsize=(10,10))\n",
        "plt.bar(ten_cot, gia_tri, color  = 'blue')\n",
        "\n",
        "for i in range(len(gia_tri)): # your number of bars\n",
        "  plt.text(x = ten_cot[i], #takes your x values as horizontal positioning argument \n",
        "  y = gia_tri[i]+10, #takes your y values as vertical positioning argument \n",
        "  s = data_labels[i], # the labels you want to add to the data\n",
        "  size = 14)\n",
        "plt.title(\"So sánh\")\n",
        "plt.xlabel(\"Số từ trong 1 câu\")\n",
        "plt.ylabel(\"Số lần xuất hiện\")\n",
        "plt.plot()"
      ],
      "execution_count": null,
      "outputs": [
        {
          "output_type": "execute_result",
          "data": {
            "text/plain": [
              "[]"
            ]
          },
          "metadata": {
            "tags": []
          },
          "execution_count": 24
        },
        {
          "output_type": "display_data",
          "data": {
            "image/png": "[encoded data removed]",
            "text/plain": [
              "<Figure size 720x720 with 1 Axes>"
            ]
          },
          "metadata": {
            "tags": []
          }
        }
      ]
    },
    {
      "cell_type": "code",
      "metadata": {
        "id": "8UqKeSxbGylU"
      },
      "source": [
        "# Remove questions and answers that are shorter than 2 words and longer than 20 words.\n",
        "min_line_length = 2\n",
        "max_line_length = 4\n",
        "\n",
        "# Filter out the questions that are too short/long\n",
        "short_questions_temp = []\n",
        "short_answers_temp = []\n",
        "\n",
        "i = 0\n",
        "for question in clean_questions:\n",
        "    if len(question.split()) >= min_line_length and len(question.split()) <= max_line_length:\n",
        "        short_questions_temp.append(question)\n",
        "        short_answers_temp.append(clean_answers[i])\n",
        "    i += 1\n",
        "\n",
        "# Filter out the answers that are too short/long\n",
        "short_questions = []\n",
        "short_answers = []\n",
        "\n",
        "i = 0\n",
        "for answer in short_answers_temp:\n",
        "    if len(answer.split()) >= min_line_length and len(answer.split()) <= max_line_length:\n",
        "        short_answers.append(answer)\n",
        "        short_questions.append(short_questions_temp[i])\n",
        "    i += 1"
      ],
      "execution_count": null,
      "outputs": []
    },
    {
      "cell_type": "code",
      "metadata": {
        "id": "3gKgmmA4GylW",
        "outputId": "5ef0045a-741d-4e40-c97d-69344efeeff8",
        "colab": {
          "base_uri": "https://localhost:8080/",
          "height": 729
        }
      },
      "source": [
        "# Compare the number of lines we will use with the total number of lines.\n",
        "y1 = len(short_answers)\n",
        "y2 = len(answers)\n",
        "z1 = format(round(len(short_questions)/len(questions),4)*100) + '%'\n",
        "z2 = format(round(1- len(short_questions)/len(questions),4)*100) + '%'\n",
        "data_labels = [z1,z2]\n",
        "print(\"Số từ của câu hỏi ban đầu: \", len(questions))\n",
        "print(\"Số từ câu trả lời ban đầu: \", len(answers)) \n",
        "print(\"Số từ của câu hỏi sau này: \", len(short_questions))\n",
        "print(\"Số từ của câu hỏi sau này: \", len(short_answers))\n",
        "print(\"% of data used: {}% \".format(round(len(short_questions)/len(questions),4)*100))\n",
        "ten_cot = [\"short_answers\", \" answers \"]\n",
        "gia_tri = [y1,y2]\n",
        "plt.figure(figsize=(10,10))\n",
        "plt.bar(ten_cot, gia_tri, color  = 'blue')\n",
        "for i in range(len(gia_tri)): # your number of bars\n",
        "  plt.text(x = ten_cot[i], #takes your x values as horizontal positioning argument \n",
        "  y = gia_tri[i]+1, #takes your y values as vertical positioning argument \n",
        "  s = data_labels[i], # the labels you want to add to the data\n",
        "  size = 14)\n",
        "plt.title(\"So sánh\")\n",
        "plt.xlabel(\"Số từ xuất hiện\")\n",
        "plt.ylabel(\"Số lần xuất hiện\")\n",
        "plt.plot()\n"
      ],
      "execution_count": null,
      "outputs": [
        {
          "output_type": "stream",
          "text": [
            "Số từ của câu hỏi ban đầu:  221616\n",
            "Số từ câu trả lời ban đầu:  221616\n",
            "Số từ của câu hỏi sau này:  12684\n",
            "Số từ của câu hỏi sau này:  12684\n",
            "% of data used: 5.72% \n"
          ],
          "name": "stdout"
        },
        {
          "output_type": "execute_result",
          "data": {
            "text/plain": [
              "[]"
            ]
          },
          "metadata": {
            "tags": []
          },
          "execution_count": 26
        },
        {
          "output_type": "display_data",
          "data": {
            "image/png": "[encoded data removed]",
            "text/plain": [
              "<Figure size 720x720 with 1 Axes>"
            ]
          },
          "metadata": {
            "tags": []
          }
        }
      ]
    },
    {
      "cell_type": "markdown",
      "metadata": {
        "id": "pSA43S1T_Wgs"
      },
      "source": [
        "==> Do mình chỉ lấy số từ của câu trả lời và câu hỏi chỉ là 2 đến 4 cho nên số lượng từ phổ biến được sử dụng là rất ít"
      ]
    },
    {
      "cell_type": "code",
      "metadata": {
        "id": "YcwAX5lcYJc2"
      },
      "source": [
        "min_line_length = 2\n",
        "max_line_length = 4\n",
        "\n",
        "short_questions_temp = []\n",
        "short_answers_temp = []\n",
        "\n",
        "i = 0\n",
        "for question in clean_questions:\n",
        "    if len(question.split()) >= min_line_length and len(question.split()) <= max_line_length:\n",
        "        short_questions_temp.append(question)\n",
        "        short_answers_temp.append(clean_answers[i])\n",
        "    i += 1\n",
        "\n",
        "short_questions = []\n",
        "short_answers = []\n",
        "\n",
        "i = 0\n",
        "for answer in short_answers_temp:\n",
        "    if len(answer.split()) >= min_line_length and len(answer.split()) <= max_line_length:\n",
        "        short_answers.append(answer)\n",
        "        short_questions.append(short_questions_temp[i])\n",
        "    i += 1"
      ],
      "execution_count": null,
      "outputs": []
    },
    {
      "cell_type": "code",
      "metadata": {
        "id": "0NyreLSKYLrv"
      },
      "source": [
        "vocab = {}\n",
        "for question in short_questions:\n",
        "    for word in question.split():\n",
        "        if word not in vocab:\n",
        "            vocab[word] = 1\n",
        "        else:\n",
        "            vocab[word] += 1\n",
        "            \n",
        "for answer in short_answers:\n",
        "    for word in answer.split():\n",
        "        if word not in vocab:\n",
        "            vocab[word] = 1\n",
        "        else:\n",
        "            vocab[word] += 1"
      ],
      "execution_count": null,
      "outputs": []
    },
    {
      "cell_type": "code",
      "metadata": {
        "id": "0GBA7B7uYMzZ"
      },
      "source": [
        "# Remove rare words from the vocabulary.\n",
        "# We will aim to replace fewer than 5% of words with <UNK>\n",
        "# You will see this ratio soon.\n",
        "threshold = 1\n",
        "count = 0\n",
        "for k,v in vocab.items():\n",
        "    if v >= threshold:\n",
        "        count += 1"
      ],
      "execution_count": null,
      "outputs": []
    },
    {
      "cell_type": "code",
      "metadata": {
        "id": "eyoqK0Y2YNtP",
        "outputId": "334d351f-f2e7-42ef-cc01-21436fd1d0ec",
        "colab": {
          "base_uri": "https://localhost:8080/"
        }
      },
      "source": [
        "print(\"Size of total vocab:\", len(vocab))\n",
        "print(\"Size of vocab we will use:\", count)"
      ],
      "execution_count": null,
      "outputs": [
        {
          "output_type": "stream",
          "text": [
            "Size of total vocab: 7742\n",
            "Size of vocab we will use: 7742\n"
          ],
          "name": "stdout"
        }
      ]
    },
    {
      "cell_type": "code",
      "metadata": {
        "id": "j5M34Nz_YOpA"
      },
      "source": [
        "# In case we want to use a different vocabulary sizes for the source and target text, \n",
        "# we can set different threshold values.\n",
        "# Nonetheless, we will create dictionaries to provide a unique integer for each word.\n",
        "questions_vocab_to_int = {}\n",
        "\n",
        "word_num = 0\n",
        "for word, count in vocab.items():\n",
        "    if count >= threshold:\n",
        "        questions_vocab_to_int[word] = word_num\n",
        "        word_num += 1\n",
        "\n",
        "answers_vocab_to_int = {}\n",
        "\n",
        "word_num = 0\n",
        "for word, count in vocab.items():\n",
        "    if count >= threshold:\n",
        "        answers_vocab_to_int[word] = word_num\n",
        "        word_num += 1"
      ],
      "execution_count": null,
      "outputs": []
    },
    {
      "cell_type": "code",
      "metadata": {
        "id": "rAqJ9lAnYQGH"
      },
      "source": [
        "# Add the unique tokens to the vocabulary dictionaries.\n",
        "codes = ['<END>','<UNK>','<START>']\n",
        "for code in codes:\n",
        "    questions_vocab_to_int[code] = len(questions_vocab_to_int)+1\n",
        "for code in codes:\n",
        "    answers_vocab_to_int[code] = len(answers_vocab_to_int)+1"
      ],
      "execution_count": null,
      "outputs": []
    },
    {
      "cell_type": "code",
      "metadata": {
        "id": "S_45nIyaYQ6_"
      },
      "source": [
        "questions_int_to_vocab = {v_i: v for v, v_i in questions_vocab_to_int.items()}\n",
        "answers_int_to_vocab = {v_i: v for v, v_i in answers_vocab_to_int.items()}"
      ],
      "execution_count": null,
      "outputs": []
    },
    {
      "cell_type": "code",
      "metadata": {
        "id": "ATO8nNPlYR22",
        "outputId": "e3c7e4d9-f4ea-44ad-c758-85563ab5e9c1",
        "colab": {
          "base_uri": "https://localhost:8080/"
        }
      },
      "source": [
        "# Check the length of the dictionaries.\n",
        "print(len(questions_vocab_to_int))\n",
        "print(len(questions_int_to_vocab))\n",
        "print(len(answers_vocab_to_int))\n",
        "print(len(answers_int_to_vocab))"
      ],
      "execution_count": null,
      "outputs": [
        {
          "output_type": "stream",
          "text": [
            "7745\n",
            "7745\n",
            "7745\n",
            "7745\n"
          ],
          "name": "stdout"
        }
      ]
    },
    {
      "cell_type": "code",
      "metadata": {
        "id": "kS1AZtXD22pc"
      },
      "source": [
        "# Add the end of sentence token to the end of every answer.\n",
        "for i in range(len(short_answers)):\n",
        "    short_answers[i] = '<START> ' +short_answers[i] + ' <END>'"
      ],
      "execution_count": null,
      "outputs": []
    },
    {
      "cell_type": "code",
      "metadata": {
        "id": "5FLGmMFxYUWK"
      },
      "source": [
        "# Convert the text to integers. \n",
        "# Replace any words that are not in the respective vocabulary with <UNK> \n",
        "questions_int = []\n",
        "for question in short_questions:\n",
        "    ints = []\n",
        "    for word in question.split():\n",
        "        if word not in questions_vocab_to_int:\n",
        "            ints.append(questions_vocab_to_int['<UNK>'])\n",
        "        else:\n",
        "            ints.append(questions_vocab_to_int[word])\n",
        "    questions_int.append(ints)\n",
        "    \n",
        "answers_int = []\n",
        "for answer in short_answers:\n",
        "    ints = []\n",
        "    for word in answer.split():\n",
        "        if word not in answers_vocab_to_int:\n",
        "            ints.append(answers_vocab_to_int['<UNK>'])\n",
        "        else:\n",
        "            ints.append(answers_vocab_to_int[word])\n",
        "    answers_int.append(ints)"
      ],
      "execution_count": null,
      "outputs": []
    },
    {
      "cell_type": "code",
      "metadata": {
        "id": "M-7P5IVeYVWA",
        "outputId": "4fefba29-4988-4602-b58a-b0044af2525a",
        "colab": {
          "base_uri": "https://localhost:8080/"
        }
      },
      "source": [
        "# Check the lengths\n",
        "print(len(questions_int))\n",
        "print(len(answers_int))"
      ],
      "execution_count": null,
      "outputs": [
        {
          "output_type": "stream",
          "text": [
            "12684\n",
            "12684\n"
          ],
          "name": "stdout"
        }
      ]
    },
    {
      "cell_type": "code",
      "metadata": {
        "id": "ch5Y_WNbYWZ5",
        "outputId": "d6026429-e498-4053-d72b-20e926fcc14b",
        "colab": {
          "base_uri": "https://localhost:8080/"
        }
      },
      "source": [
        "word_count = 0\n",
        "unk_count = 0\n",
        "\n",
        "for question in questions_int:\n",
        "    for word in question:\n",
        "        if word == questions_vocab_to_int[\"<UNK>\"]:\n",
        "            unk_count += 1\n",
        "        word_count += 1\n",
        "    \n",
        "for answer in answers_int:\n",
        "    for word in answer:\n",
        "        if word == answers_vocab_to_int[\"<UNK>\"]:\n",
        "            unk_count += 1\n",
        "        word_count += 1\n",
        "    \n",
        "unk_ratio = round(unk_count/word_count,4)*100\n",
        "print(\"Total number of words:\", word_count)\n",
        "print(\"Number of times <UNK> is used:\", unk_count)\n",
        "print(\"Percent of words that are <UNK>: {}%\".format(round(unk_ratio,3)))"
      ],
      "execution_count": null,
      "outputs": [
        {
          "output_type": "stream",
          "text": [
            "Total number of words: 103515\n",
            "Number of times <UNK> is used: 0\n",
            "Percent of words that are <UNK>: 0.0%\n"
          ],
          "name": "stdout"
        }
      ]
    },
    {
      "cell_type": "code",
      "metadata": {
        "id": "jz6OMlr4YXNv",
        "outputId": "dbeb0e90-30d4-4db7-9ee4-080221406fca",
        "colab": {
          "base_uri": "https://localhost:8080/"
        }
      },
      "source": [
        "# Sort questions and answers by the length of questions.\n",
        "# This will reduce the amount of padding during training\n",
        "# Which should speed up training and help to reduce the loss\n",
        "\n",
        "sorted_questions = []\n",
        "sorted_answers = []\n",
        "\n",
        "for length in range(1, max_line_length+1):\n",
        "    for i in enumerate(questions_int):\n",
        "        if len(i[1]) == length:\n",
        "            sorted_questions.append(questions_int[i[0]])\n",
        "            sorted_answers.append(answers_int[i[0]])\n",
        "\n",
        "print(len(sorted_questions))\n",
        "print(len(sorted_answers))"
      ],
      "execution_count": null,
      "outputs": [
        {
          "output_type": "stream",
          "text": [
            "12684\n",
            "12684\n"
          ],
          "name": "stdout"
        }
      ]
    },
    {
      "cell_type": "code",
      "metadata": {
        "id": "CFf0bjDs6pKa"
      },
      "source": [
        "input_docs = short_questions\n",
        "target_docs = short_answers\n",
        "input_features_dict = questions_vocab_to_int\n",
        "target_features_dict = answers_vocab_to_int\n",
        "reverse_target_features_dict = answers_int_to_vocab"
      ],
      "execution_count": null,
      "outputs": []
    },
    {
      "cell_type": "code",
      "metadata": {
        "id": "0cn_b3ncZr_V"
      },
      "source": [
        "max_encoder_seq_length = max([len(re.findall(r\"[\\w']+|[^\\s\\w]\", input_doc)) for input_doc in input_docs])\n",
        "max_decoder_seq_length = max([len(re.findall(r\"[\\w']+|[^\\s\\w]\", target_doc)) for target_doc in target_docs])"
      ],
      "execution_count": null,
      "outputs": []
    },
    {
      "cell_type": "code",
      "metadata": {
        "id": "bi9E3L9Zgzrv"
      },
      "source": [
        "encoder_input_data = np.zeros(\n",
        "    (len(sorted_questions), max_encoder_seq_length, len(questions_vocab_to_int) + 1),\n",
        "    dtype='float32')\n",
        "decoder_input_data = np.zeros(\n",
        "    (len(sorted_questions), max_decoder_seq_length, len(answers_vocab_to_int) + 1),\n",
        "    dtype='float32'\n",
        ")\n",
        "decoder_target_data = np.zeros(\n",
        "    (len(sorted_questions), max_decoder_seq_length, len(answers_vocab_to_int) + 1),\n",
        "    dtype='float32'\n",
        ")"
      ],
      "execution_count": null,
      "outputs": []
    },
    {
      "cell_type": "code",
      "metadata": {
        "id": "l0aB-2lw6fRp"
      },
      "source": [
        "for line, (input_doc, target_doc) in enumerate(zip(input_docs, target_docs)):\n",
        "    for timestep, token in enumerate(re.findall(r\"[\\w']+|[^\\s\\w]\", input_doc)):\n",
        "        encoder_input_data[line, timestep, input_features_dict[token]] = 1.\n",
        "    \n",
        "    for timestep, token in enumerate(target_doc.split()):\n",
        "        decoder_input_data[line, timestep, target_features_dict[token]] = 1.\n",
        "        if timestep > 0:\n",
        "            decoder_target_data[line, timestep - 1, target_features_dict[token]] = 1."
      ],
      "execution_count": null,
      "outputs": []
    },
    {
      "cell_type": "code",
      "metadata": {
        "id": "uwl_eA-SD8BN"
      },
      "source": [
        "num_encoder_tokens = len(questions_vocab_to_int) + 1\n",
        "num_decoder_tokens = len(questions_vocab_to_int) + 1"
      ],
      "execution_count": null,
      "outputs": []
    },
    {
      "cell_type": "code",
      "metadata": {
        "id": "2T4t3n41J8QD"
      },
      "source": [
        "def lr_shedule(epoch):\n",
        "  lr = 0.01\n",
        "  if epoch > 70:\n",
        "    return 0.001\n",
        "  elif epoch > 50:\n",
        "    return 0.005\n",
        "  elif epoch > 20:\n",
        "    return 0.008\n",
        "  return lr "
      ],
      "execution_count": null,
      "outputs": []
    },
    {
      "cell_type": "code",
      "metadata": {
        "id": "J1hmGRgMJ9tR"
      },
      "source": [
        "lr_callback= LearningRateScheduler(lr_shedule)\n",
        "early_callback = EarlyStopping(patience=5)\n",
        "model_checkpont_callback= ReduceLROnPlateau(monitor='loss', factor=0.2,\n",
        "                              patience=3, min_lr=0.001)\n",
        "checkpointer = ModelCheckpoint(filepath=\"/content/drive/My Drive/Project AI4E/weights.hdf5\",monitor = 'accuracy' ,verbose=1, save_best_only=True)\n",
        "callbacks = [lr_callback,model_checkpont_callback ]"
      ],
      "execution_count": null,
      "outputs": []
    },
    {
      "cell_type": "code",
      "metadata": {
        "id": "PsHec_wgDjlP"
      },
      "source": [
        "# #Dimensionality\n",
        "dimensionality = 256\n",
        "#The batch size and number of epochs\n",
        "batch_size = 20\n",
        "epochs = 100\n",
        "# #Encoder\n",
        "encoder_inputs = Input(shape=(None, num_encoder_tokens))\n",
        "encoder_lstm = LSTM(dimensionality, return_state=True)\n",
        "encoder_outputs, state_hidden, state_cell = encoder_lstm(encoder_inputs)\n",
        "encoder_states = [state_hidden, state_cell]\n",
        "# #Decoder\n",
        "decoder_inputs = Input(shape=(None, num_decoder_tokens))\n",
        "decoder_lstm = LSTM(dimensionality, return_sequences=True, return_state=True)\n",
        "decoder_outputs, decoder_state_hidden, decoder_state_cell = decoder_lstm(decoder_inputs, initial_state=encoder_states)\n",
        "decoder_dense = Dense(num_decoder_tokens, activation='softmax')\n",
        "decoder_outputs = decoder_dense(decoder_outputs)"
      ],
      "execution_count": null,
      "outputs": []
    },
    {
      "cell_type": "code",
      "metadata": {
        "id": "mxULmLbyDnv-",
        "outputId": "c400bc4f-0496-491a-cd88-977ad936c737",
        "colab": {
          "base_uri": "https://localhost:8080/"
        }
      },
      "source": [
        "#Model\n",
        "training_model = Model([encoder_inputs, decoder_inputs], decoder_outputs)\n",
        "#Compiling\n",
        "training_model.compile(optimizer='adam', loss='categorical_crossentropy', metrics=['accuracy'], sample_weight_mode='temporal')\n",
        "training_model.summary()"
      ],
      "execution_count": null,
      "outputs": [
        {
          "output_type": "stream",
          "text": [
            "Model: \"functional_1\"\n",
            "__________________________________________________________________________________________________\n",
            "Layer (type)                    Output Shape         Param #     Connected to                     \n",
            "==================================================================================================\n",
            "input_1 (InputLayer)            [(None, None, 7746)] 0                                            \n",
            "__________________________________________________________________________________________________\n",
            "input_2 (InputLayer)            [(None, None, 7746)] 0                                            \n",
            "__________________________________________________________________________________________________\n",
            "lstm (LSTM)                     [(None, 256), (None, 8195072     input_1[0][0]                    \n",
            "__________________________________________________________________________________________________\n",
            "lstm_1 (LSTM)                   [(None, None, 256),  8195072     input_2[0][0]                    \n",
            "                                                                 lstm[0][1]                       \n",
            "                                                                 lstm[0][2]                       \n",
            "__________________________________________________________________________________________________\n",
            "dense (Dense)                   (None, None, 7746)   1990722     lstm_1[0][0]                     \n",
            "==================================================================================================\n",
            "Total params: 18,380,866\n",
            "Trainable params: 18,380,866\n",
            "Non-trainable params: 0\n",
            "__________________________________________________________________________________________________\n"
          ],
          "name": "stdout"
        }
      ]
    },
    {
      "cell_type": "code",
      "metadata": {
        "id": "Xgz7CcDhymBa",
        "outputId": "27d7cd1e-bc33-4747-e64c-d2806c110206",
        "colab": {
          "base_uri": "https://localhost:8080/",
          "height": 422
        }
      },
      "source": [
        "plot_model(training_model, to_file='model_plot.png', show_shapes=True, show_layer_names=True)"
      ],
      "execution_count": null,
      "outputs": [
        {
          "output_type": "execute_result",
          "data": {
            "image/png": "[encoded data removed]",
            "text/plain": [
              "<IPython.core.display.Image object>"
            ]
          },
          "metadata": {
            "tags": []
          },
          "execution_count": 49
        }
      ]
    },
    {
      "cell_type": "code",
      "metadata": {
        "id": "3sYvpjOXhrov",
        "outputId": "c85d5a64-a0ba-42b4-8fa4-87339976c159",
        "colab": {
          "base_uri": "https://localhost:8080/"
        }
      },
      "source": [
        "training_model.fit([encoder_input_data, decoder_input_data], \n",
        "                   decoder_target_data, \n",
        "                   batch_size = batch_size, \n",
        "                   epochs = epochs,\n",
        "                   callbacks = callbacks)"
      ],
      "execution_count": null,
      "outputs": [
        {
          "output_type": "stream",
          "text": [
            "Epoch 1/100\n",
            "635/635 [==============================] - 13s 20ms/step - loss: 1.6596 - accuracy: 0.1047\n",
            "Epoch 2/100\n",
            "635/635 [==============================] - 13s 20ms/step - loss: 1.4008 - accuracy: 0.1184\n",
            "Epoch 3/100\n",
            "635/635 [==============================] - 13s 20ms/step - loss: 1.3011 - accuracy: 0.1226\n",
            "Epoch 4/100\n",
            "635/635 [==============================] - 13s 21ms/step - loss: 1.1395 - accuracy: 0.1337\n",
            "Epoch 5/100\n",
            "635/635 [==============================] - 13s 21ms/step - loss: 1.0123 - accuracy: 0.1487\n",
            "Epoch 6/100\n",
            "635/635 [==============================] - 13s 21ms/step - loss: 0.9263 - accuracy: 0.1589\n",
            "Epoch 7/100\n",
            "635/635 [==============================] - 13s 21ms/step - loss: 0.8588 - accuracy: 0.1683\n",
            "Epoch 8/100\n",
            "635/635 [==============================] - 13s 21ms/step - loss: 0.8046 - accuracy: 0.1761\n",
            "Epoch 9/100\n",
            "635/635 [==============================] - 13s 21ms/step - loss: 0.7379 - accuracy: 0.1859\n",
            "Epoch 10/100\n",
            "635/635 [==============================] - 13s 21ms/step - loss: 0.6940 - accuracy: 0.1933\n",
            "Epoch 11/100\n",
            "635/635 [==============================] - 13s 21ms/step - loss: 0.6477 - accuracy: 0.2022\n",
            "Epoch 12/100\n",
            "635/635 [==============================] - 13s 21ms/step - loss: 0.6019 - accuracy: 0.2099\n",
            "Epoch 13/100\n",
            "635/635 [==============================] - 13s 21ms/step - loss: 0.5540 - accuracy: 0.2193\n",
            "Epoch 14/100\n",
            "635/635 [==============================] - 13s 21ms/step - loss: 0.5134 - accuracy: 0.2273\n",
            "Epoch 15/100\n",
            "635/635 [==============================] - 13s 21ms/step - loss: 0.4743 - accuracy: 0.2350\n",
            "Epoch 16/100\n",
            "635/635 [==============================] - 13s 21ms/step - loss: 0.4485 - accuracy: 0.2399\n",
            "Epoch 17/100\n",
            "635/635 [==============================] - 13s 21ms/step - loss: 0.4296 - accuracy: 0.2442\n",
            "Epoch 18/100\n",
            "635/635 [==============================] - 13s 20ms/step - loss: 0.4104 - accuracy: 0.2479\n",
            "Epoch 19/100\n",
            "635/635 [==============================] - 13s 21ms/step - loss: 0.3960 - accuracy: 0.2511\n",
            "Epoch 20/100\n",
            "635/635 [==============================] - 13s 21ms/step - loss: 0.3824 - accuracy: 0.2535\n",
            "Epoch 21/100\n",
            "635/635 [==============================] - 13s 21ms/step - loss: 0.3663 - accuracy: 0.2564\n",
            "Epoch 22/100\n",
            "635/635 [==============================] - 13s 21ms/step - loss: 0.3363 - accuracy: 0.2632\n",
            "Epoch 23/100\n",
            "635/635 [==============================] - 13s 21ms/step - loss: 0.3142 - accuracy: 0.2679\n",
            "Epoch 24/100\n",
            "635/635 [==============================] - 13s 21ms/step - loss: 0.3045 - accuracy: 0.2695\n",
            "Epoch 25/100\n",
            "635/635 [==============================] - 13s 21ms/step - loss: 0.2977 - accuracy: 0.2706\n",
            "Epoch 26/100\n",
            "635/635 [==============================] - 13s 21ms/step - loss: 0.2937 - accuracy: 0.2713\n",
            "Epoch 27/100\n",
            "635/635 [==============================] - 13s 21ms/step - loss: 0.2872 - accuracy: 0.2726\n",
            "Epoch 28/100\n",
            "635/635 [==============================] - 13s 21ms/step - loss: 0.2807 - accuracy: 0.2739\n",
            "Epoch 29/100\n",
            "635/635 [==============================] - 13s 21ms/step - loss: 0.2756 - accuracy: 0.2751\n",
            "Epoch 30/100\n",
            "635/635 [==============================] - 13s 21ms/step - loss: 0.3011 - accuracy: 0.2722\n",
            "Epoch 31/100\n",
            "635/635 [==============================] - 13s 21ms/step - loss: 0.3391 - accuracy: 0.2611\n",
            "Epoch 32/100\n",
            "635/635 [==============================] - 13s 21ms/step - loss: 0.2742 - accuracy: 0.2742\n",
            "Epoch 33/100\n",
            "635/635 [==============================] - 13s 21ms/step - loss: 0.2438 - accuracy: 0.2809\n",
            "Epoch 34/100\n",
            "635/635 [==============================] - 13s 21ms/step - loss: 0.2199 - accuracy: 0.2858\n",
            "Epoch 35/100\n",
            "635/635 [==============================] - 13s 21ms/step - loss: 0.2056 - accuracy: 0.2891\n",
            "Epoch 36/100\n",
            "635/635 [==============================] - 13s 21ms/step - loss: 0.1907 - accuracy: 0.2919\n",
            "Epoch 37/100\n",
            "635/635 [==============================] - 13s 21ms/step - loss: 0.1734 - accuracy: 0.2954\n",
            "Epoch 38/100\n",
            "635/635 [==============================] - 13s 21ms/step - loss: 0.1568 - accuracy: 0.2983\n",
            "Epoch 39/100\n",
            "635/635 [==============================] - 13s 21ms/step - loss: 0.1438 - accuracy: 0.3016\n",
            "Epoch 40/100\n",
            "635/635 [==============================] - 13s 21ms/step - loss: 0.1316 - accuracy: 0.3043\n",
            "Epoch 41/100\n",
            "635/635 [==============================] - 13s 21ms/step - loss: 0.1311 - accuracy: 0.3045\n",
            "Epoch 42/100\n",
            "635/635 [==============================] - 13s 21ms/step - loss: 0.1283 - accuracy: 0.3049\n",
            "Epoch 43/100\n",
            "635/635 [==============================] - 13s 21ms/step - loss: 0.1175 - accuracy: 0.3071\n",
            "Epoch 44/100\n",
            "635/635 [==============================] - 13s 21ms/step - loss: 0.1158 - accuracy: 0.3077\n",
            "Epoch 45/100\n",
            "635/635 [==============================] - 13s 21ms/step - loss: 0.1074 - accuracy: 0.3094\n",
            "Epoch 46/100\n",
            "635/635 [==============================] - 13s 21ms/step - loss: 0.1047 - accuracy: 0.3102\n",
            "Epoch 47/100\n",
            "635/635 [==============================] - 13s 21ms/step - loss: 0.1062 - accuracy: 0.3097\n",
            "Epoch 48/100\n",
            "635/635 [==============================] - 13s 21ms/step - loss: 0.1056 - accuracy: 0.3098\n",
            "Epoch 49/100\n",
            "635/635 [==============================] - 13s 21ms/step - loss: 0.1004 - accuracy: 0.3107\n",
            "Epoch 50/100\n",
            "635/635 [==============================] - 13s 21ms/step - loss: 0.0986 - accuracy: 0.3115\n",
            "Epoch 51/100\n",
            "635/635 [==============================] - 13s 21ms/step - loss: 0.0985 - accuracy: 0.3109\n",
            "Epoch 52/100\n",
            "635/635 [==============================] - 13s 21ms/step - loss: 0.0832 - accuracy: 0.3138\n",
            "Epoch 53/100\n",
            "635/635 [==============================] - 13s 21ms/step - loss: 0.0742 - accuracy: 0.3151\n",
            "Epoch 54/100\n",
            "635/635 [==============================] - 13s 21ms/step - loss: 0.0731 - accuracy: 0.3154\n",
            "Epoch 55/100\n",
            "635/635 [==============================] - 13s 21ms/step - loss: 0.0724 - accuracy: 0.3155\n",
            "Epoch 56/100\n",
            "635/635 [==============================] - 13s 21ms/step - loss: 0.0727 - accuracy: 0.3153\n",
            "Epoch 57/100\n",
            "635/635 [==============================] - 13s 21ms/step - loss: 0.0726 - accuracy: 0.3155\n",
            "Epoch 58/100\n",
            "635/635 [==============================] - 13s 21ms/step - loss: 0.0727 - accuracy: 0.3155\n",
            "Epoch 59/100\n",
            "635/635 [==============================] - 13s 21ms/step - loss: 0.0727 - accuracy: 0.3152\n",
            "Epoch 60/100\n",
            "635/635 [==============================] - 13s 21ms/step - loss: 0.0738 - accuracy: 0.3150\n",
            "Epoch 61/100\n",
            "635/635 [==============================] - 13s 21ms/step - loss: 0.0732 - accuracy: 0.3148\n",
            "Epoch 62/100\n",
            "635/635 [==============================] - 13s 20ms/step - loss: 0.0710 - accuracy: 0.3152\n",
            "Epoch 63/100\n",
            "635/635 [==============================] - 13s 21ms/step - loss: 0.0699 - accuracy: 0.3153\n",
            "Epoch 64/100\n",
            "635/635 [==============================] - 13s 21ms/step - loss: 0.0686 - accuracy: 0.3157\n",
            "Epoch 65/100\n",
            "635/635 [==============================] - 13s 21ms/step - loss: 0.0685 - accuracy: 0.3158\n",
            "Epoch 66/100\n",
            "635/635 [==============================] - 13s 21ms/step - loss: 0.0685 - accuracy: 0.3156\n",
            "Epoch 67/100\n",
            "635/635 [==============================] - 13s 21ms/step - loss: 0.0688 - accuracy: 0.3155\n",
            "Epoch 68/100\n",
            "635/635 [==============================] - 13s 21ms/step - loss: 0.0692 - accuracy: 0.3156\n",
            "Epoch 69/100\n",
            "635/635 [==============================] - 13s 21ms/step - loss: 0.0697 - accuracy: 0.3152\n",
            "Epoch 70/100\n",
            "635/635 [==============================] - 13s 21ms/step - loss: 0.0704 - accuracy: 0.3151\n",
            "Epoch 71/100\n",
            "635/635 [==============================] - 13s 21ms/step - loss: 0.0698 - accuracy: 0.3153\n",
            "Epoch 72/100\n",
            "635/635 [==============================] - 13s 21ms/step - loss: 0.0571 - accuracy: 0.3187\n",
            "Epoch 73/100\n",
            "635/635 [==============================] - 13s 21ms/step - loss: 0.0542 - accuracy: 0.3187\n",
            "Epoch 74/100\n",
            "635/635 [==============================] - 13s 21ms/step - loss: 0.0536 - accuracy: 0.3177\n",
            "Epoch 75/100\n",
            "635/635 [==============================] - 13s 21ms/step - loss: 0.0534 - accuracy: 0.3171\n",
            "Epoch 76/100\n",
            "635/635 [==============================] - 13s 21ms/step - loss: 0.0533 - accuracy: 0.3169\n",
            "Epoch 77/100\n",
            "635/635 [==============================] - 13s 21ms/step - loss: 0.0533 - accuracy: 0.3170\n",
            "Epoch 78/100\n",
            "635/635 [==============================] - 13s 21ms/step - loss: 0.0532 - accuracy: 0.3170\n",
            "Epoch 79/100\n",
            "635/635 [==============================] - 13s 21ms/step - loss: 0.0531 - accuracy: 0.3167\n",
            "Epoch 80/100\n",
            "635/635 [==============================] - 13s 21ms/step - loss: 0.0530 - accuracy: 0.3169\n",
            "Epoch 81/100\n",
            "635/635 [==============================] - 13s 21ms/step - loss: 0.0530 - accuracy: 0.3167\n",
            "Epoch 82/100\n",
            "635/635 [==============================] - 13s 21ms/step - loss: 0.0529 - accuracy: 0.3169\n",
            "Epoch 83/100\n",
            "635/635 [==============================] - 13s 21ms/step - loss: 0.0529 - accuracy: 0.3167\n",
            "Epoch 84/100\n",
            "635/635 [==============================] - 13s 21ms/step - loss: 0.0527 - accuracy: 0.3169\n",
            "Epoch 85/100\n",
            "635/635 [==============================] - 13s 21ms/step - loss: 0.0527 - accuracy: 0.3169\n",
            "Epoch 86/100\n",
            "635/635 [==============================] - 13s 21ms/step - loss: 0.0526 - accuracy: 0.3170\n",
            "Epoch 87/100\n",
            "635/635 [==============================] - 13s 21ms/step - loss: 0.0525 - accuracy: 0.3170\n",
            "Epoch 88/100\n",
            "635/635 [==============================] - 13s 21ms/step - loss: 0.0525 - accuracy: 0.3169\n",
            "Epoch 89/100\n",
            "635/635 [==============================] - 13s 21ms/step - loss: 0.0524 - accuracy: 0.3169\n",
            "Epoch 90/100\n",
            "635/635 [==============================] - 13s 21ms/step - loss: 0.0524 - accuracy: 0.3168\n",
            "Epoch 91/100\n",
            "635/635 [==============================] - 13s 21ms/step - loss: 0.0523 - accuracy: 0.3169\n",
            "Epoch 92/100\n",
            "635/635 [==============================] - 13s 21ms/step - loss: 0.0522 - accuracy: 0.3169\n",
            "Epoch 93/100\n",
            "635/635 [==============================] - 13s 21ms/step - loss: 0.0523 - accuracy: 0.3169\n",
            "Epoch 94/100\n",
            "635/635 [==============================] - 13s 21ms/step - loss: 0.0522 - accuracy: 0.3172\n",
            "Epoch 95/100\n",
            "635/635 [==============================] - 13s 21ms/step - loss: 0.0522 - accuracy: 0.3168\n",
            "Epoch 96/100\n",
            "635/635 [==============================] - 13s 21ms/step - loss: 0.0520 - accuracy: 0.3170\n",
            "Epoch 97/100\n",
            "635/635 [==============================] - 13s 21ms/step - loss: 0.0520 - accuracy: 0.3169\n",
            "Epoch 98/100\n",
            "635/635 [==============================] - 13s 21ms/step - loss: 0.0521 - accuracy: 0.3170\n",
            "Epoch 99/100\n",
            "635/635 [==============================] - 13s 21ms/step - loss: 0.0518 - accuracy: 0.3170\n",
            "Epoch 100/100\n",
            "635/635 [==============================] - 13s 21ms/step - loss: 0.0519 - accuracy: 0.3170\n"
          ],
          "name": "stdout"
        },
        {
          "output_type": "execute_result",
          "data": {
            "text/plain": [
              "<tensorflow.python.keras.callbacks.History at 0x7fa80e6a77b8>"
            ]
          },
          "metadata": {
            "tags": []
          },
          "execution_count": 50
        }
      ]
    },
    {
      "cell_type": "code",
      "metadata": {
        "id": "Cn3rABSnl0N1"
      },
      "source": [
        "encoder_inputs = training_model.input[0]\n",
        "encoder_outputs, state_h_enc, state_c_enc = training_model.layers[2].output\n",
        "encoder_states = [state_h_enc, state_c_enc]\n",
        "encoder_model = Model(encoder_inputs, encoder_states)"
      ],
      "execution_count": null,
      "outputs": []
    },
    {
      "cell_type": "code",
      "metadata": {
        "id": "uqW9q4pcl1pi"
      },
      "source": [
        "latent_dim = 256\n",
        "decoder_state_input_hidden = Input(shape=(latent_dim,))\n",
        "decoder_state_input_cell = Input(shape=(latent_dim,))\n",
        "decoder_states_inputs = [decoder_state_input_hidden, decoder_state_input_cell]"
      ],
      "execution_count": null,
      "outputs": []
    },
    {
      "cell_type": "code",
      "metadata": {
        "id": "MaKNOvXel3D6"
      },
      "source": [
        "decoder_outputs, state_hidden, state_cell = decoder_lstm(decoder_inputs, initial_state=decoder_states_inputs)\n",
        "decoder_states = [state_hidden, state_cell]\n",
        "decoder_outputs = decoder_dense(decoder_outputs)"
      ],
      "execution_count": null,
      "outputs": []
    },
    {
      "cell_type": "code",
      "metadata": {
        "id": "UfRLHYJKl4TM"
      },
      "source": [
        "decoder_model = Model([decoder_inputs] + decoder_states_inputs, [decoder_outputs] + decoder_states)"
      ],
      "execution_count": null,
      "outputs": []
    },
    {
      "cell_type": "code",
      "metadata": {
        "id": "78HY04sul6kb"
      },
      "source": [
        "def decode_response(test_input):\n",
        "    #Getting the output states to pass into the decoder\n",
        "    states_value = encoder_model.predict(test_input)\n",
        "    #Generating empty target sequence of length 1\n",
        "    target_seq = np.zeros((1, 1, num_decoder_tokens))\n",
        "    #Setting the first token of target sequence with the start token\n",
        "    target_seq[0, 0, target_features_dict['<START>']] = 1.\n",
        "    #A variable to store our response word by word\n",
        "    decoded_sentence = ''\n",
        "    \n",
        "    stop_condition = False\n",
        "    while not stop_condition:\n",
        "      #Predicting output tokens with probabilities and states\n",
        "      output_tokens, hidden_state, cell_state = decoder_model.predict([target_seq] + states_value)\n",
        "#Choosing the one with highest probability\n",
        "      sampled_token_index = np.argmax(output_tokens[0, -1, :])\n",
        "      sampled_token = reverse_target_features_dict[sampled_token_index]\n",
        "      decoded_sentence += \" \" + sampled_token\n",
        "#Stop if hit max length or found the stop token\n",
        "      if (sampled_token == '<EOS>' or len(decoded_sentence) > 10):\n",
        "        stop_condition = True\n",
        "#Update the target sequence\n",
        "      target_seq = np.zeros((1, 1, num_decoder_tokens))\n",
        "      target_seq[0, 0, sampled_token_index] = 1.\n",
        "      #Update states\n",
        "      states_value = [hidden_state, cell_state]\n",
        "    return decoded_sentence"
      ],
      "execution_count": null,
      "outputs": []
    },
    {
      "cell_type": "code",
      "metadata": {
        "id": "EXIPD7Rol8Xi"
      },
      "source": [
        "class ChatBot:\n",
        "  negative_responses = (\"no\", \"nope\", \"nah\", \"naw\", \"not a chance\", \"sorry\")\n",
        "  exit_commands = (\"quit\", \"pause\", \"exit\", \"goodbye\", \"bye\", \"later\", \"stop\")\n",
        "#Method to start the conversation\n",
        "  def start_chat(self):\n",
        "    user_response = input(\"Hi, I'm a chatbot trained on random dialogs. Would you like to chat with me?\\n\")\n",
        "    # print(\"Human: \" + user_response)\n",
        "    # print(\"\\n\")\n",
        "    if user_response in self.negative_responses:\n",
        "      print(\"Ok, have a great day!\")\n",
        "      return\n",
        "    self.chat(user_response)\n",
        "#Method to handle the conversation\n",
        "  def chat(self, reply):\n",
        "    while not self.make_exit(reply):\n",
        "      reply = input(self.generate_response(reply)+\"\\n\")\n",
        "    \n",
        "  #Method to convert user input into a matrix\n",
        "  def string_to_matrix(self, user_input):\n",
        "    tokens = re.findall(r\"[\\w']+|[^\\s\\w]\", user_input)\n",
        "    user_input_matrix = np.zeros(\n",
        "      (1, max_encoder_seq_length, num_encoder_tokens),\n",
        "      dtype='float32')\n",
        "    for timestep, token in enumerate(tokens):\n",
        "      if token in input_features_dict:\n",
        "        user_input_matrix[0, timestep, input_features_dict[token]] = 1.\n",
        "    return user_input_matrix\n",
        "  \n",
        "  #Method that will create a response using seq2seq model we built\n",
        "  def generate_response(self, user_input):\n",
        "    input_matrix = self.string_to_matrix(user_input)\n",
        "    chatbot_response = decode_response(input_matrix)\n",
        "    #Remove <START> and <END> tokens from chatbot_response\n",
        "    chatbot_response = chatbot_response.replace(\"<START>\",'')\n",
        "    chatbot_response = chatbot_response.replace(\"<END>\",'')\n",
        "    return chatbot_response\n",
        "#Method to check for exit commands\n",
        "  def make_exit(self, reply):\n",
        "    for exit_command in self.exit_commands:\n",
        "      if exit_command in reply:\n",
        "        print(\"Ok, have a great day!\")\n",
        "        return True\n",
        "    return False"
      ],
      "execution_count": null,
      "outputs": []
    },
    {
      "cell_type": "code",
      "metadata": {
        "id": "dmKprTu7n12X",
        "outputId": "87bdb1fe-15a8-471e-b53f-062e05bc921b",
        "colab": {
          "base_uri": "https://localhost:8080/"
        }
      },
      "source": [
        "chatbot = ChatBot()\n",
        "chatbot.start_chat()"
      ],
      "execution_count": null,
      "outputs": [
        {
          "output_type": "stream",
          "text": [
            "Hi, I'm a chatbot trained on random dialogs. Would you like to chat with me?\n",
            "hi\n",
            " hi princess\n",
            "what do you do\n",
            " i am in construction\n",
            "how are you\n",
            " i got fired\n",
            "how old are you\n",
            " nineteen or\n",
            "have you got a girl friend\n",
            " excuse me \n",
            "have you got a girlfriend\n"
          ],
          "name": "stdout"
        }
      ]
    }
  ]
}